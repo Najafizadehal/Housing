{
 "cells": [
  {
   "cell_type": "code",
   "execution_count": null,
   "id": "d29ee98f",
   "metadata": {},
   "outputs": [],
   "source": [
    "import pandas as pd\n",
    "import matplotlib.pyplot as plt\n",
    "from sklearn.model_selection import train_test_split\n",
    "from pandas.plotting import scatter_matrix \n",
    "from sklearn.impute import SimpleImputer\n",
    "import numpy as np\n",
    "from sklearn.base import BaseEstimator,TransformerMixin\n",
    "\n",
    "\n",
    "housing = pd.read_csv('housing.csv', header=0, sep=',')\n",
    "\n",
    "#housing.hist(bins=50, figsize=(20,15))\n",
    "#plt.show()\n",
    "\n",
    "train_set, test_set = train_test_split(housing, test_size=0.2, random_state = 2)\n",
    "train_set.shape\n",
    "train_set.head()"
   ]
  },
  {
   "cell_type": "code",
   "execution_count": null,
   "id": "87e80b6c",
   "metadata": {},
   "outputs": [],
   "source": [
    "data = train_set.copy()\n",
    "data.plot(kind=\"scatter\", x=\"longitude\", y=\"latitude\",\n",
    "          s=data[\"population\"]/30, label=\"population\",\n",
    "          c=data[\"median_house_value\"], cmap=plt.get_cmap(\"jet\"),\n",
    "          figsize=(10,7), alpha=0.2)\n",
    "data.shape\n",
    "        "
   ]
  },
  {
   "cell_type": "code",
   "execution_count": null,
   "id": "21b6009e",
   "metadata": {},
   "outputs": [],
   "source": [
    "corr_matrix = data.corr()\n",
    "corr_matrix[\"median_house_value\"].sort_values(ascending=False)"
   ]
  },
  {
   "cell_type": "code",
   "execution_count": null,
   "id": "6a87dc2d",
   "metadata": {},
   "outputs": [],
   "source": [
    "features = [\"median_house_value\",\"median_income\",\"total_rooms\",\"housing_median_age\"]\n",
    "scatter_matrix(data[features], figsize=(15,10))\n",
    "plt.show()\n"
   ]
  },
  {
   "cell_type": "code",
   "execution_count": null,
   "id": "db9cf608",
   "metadata": {},
   "outputs": [],
   "source": [
    "data = train_set.copy()\n",
    "data.plot(kind=\"scatter\", x=\"median_income\", y=\"median_house_value\",\n",
    "figsize=(10,7), alpha=0.4)\n",
    "          \n",
    "data.shape\n",
    "         "
   ]
  },
  {
   "cell_type": "code",
   "execution_count": null,
   "id": "2777b3fa",
   "metadata": {},
   "outputs": [],
   "source": [
    "data[\"total_rooms_per_households\"] = data[\"total_rooms\"]/data[\"households\"]\n",
    "data[\"total_bedrooms_per_total_rooms\"] = data[\"total_bedrooms\"]/data[\"total_rooms\"]\n",
    "data[\"population_per_households\"] = data[\"population\"]/data[\"households\"]\n",
    "data.head(10)"
   ]
  },
  {
   "cell_type": "code",
   "execution_count": null,
   "id": "a070134b",
   "metadata": {},
   "outputs": [],
   "source": []
  }
 ],
 "metadata": {
  "kernelspec": {
   "display_name": "Python 3 (ipykernel)",
   "language": "python",
   "name": "python3"
  },
  "language_info": {
   "codemirror_mode": {
    "name": "ipython",
    "version": 3
   },
   "file_extension": ".py",
   "mimetype": "text/x-python",
   "name": "python",
   "nbconvert_exporter": "python",
   "pygments_lexer": "ipython3",
   "version": "3.10.9"
  }
 },
 "nbformat": 4,
 "nbformat_minor": 5
}
