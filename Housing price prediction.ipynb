{
 "cells": [
  {
   "cell_type": "code",
   "execution_count": null,
   "id": "aadaf204",
   "metadata": {},
   "outputs": [],
   "source": [
    "import pandas as pd\n",
    "import matplotlib.pyplot as plt\n",
    "from sklearn.model_selection import train_test_split\n",
    "from pandas.plotting import scatter_matrix \n",
    "from sklearn.impute import SimpleImputer\n",
    "import numpy as np\n",
    "from sklearn.base import BaseEstimator,TransformerMixin\n",
    "\n",
    "\n",
    "housing = pd.read_csv('housing.csv', header=0, sep=',')\n",
    "\n",
    "#housing.hist(bins=50, figsize=(20,15))\n",
    "#plt.show()\n",
    "\n",
    "train_set, test_set = train_test_split(housing, test_size=0.2, random_state = 2)\n",
    "train_set.shape\n",
    "train_set.head()"
   ]
  },
  {
   "cell_type": "code",
   "execution_count": null,
   "id": "de3cba32",
   "metadata": {},
   "outputs": [],
   "source": [
    "data = train_set.copy()\n",
    "data.plot(kind=\"scatter\", x=\"longitude\", y=\"latitude\",\n",
    "          s=data[\"population\"]/30, label=\"population\",\n",
    "          c=data[\"median_house_value\"], cmap=plt.get_cmap(\"jet\"),\n",
    "          figsize=(10,7), alpha=0.2)\n",
    "data.shape\n",
    "        "
   ]
  },
  {
   "cell_type": "code",
   "execution_count": null,
   "id": "037f77b6",
   "metadata": {},
   "outputs": [],
   "source": [
    "corr_matrix = data.corr()\n",
    "corr_matrix[\"median_house_value\"].sort_values(ascending=False)"
   ]
  }
 ],
 "metadata": {
  "kernelspec": {
   "display_name": "Python 3 (ipykernel)",
   "language": "python",
   "name": "python3"
  },
  "language_info": {
   "codemirror_mode": {
    "name": "ipython",
    "version": 3
   },
   "file_extension": ".py",
   "mimetype": "text/x-python",
   "name": "python",
   "nbconvert_exporter": "python",
   "pygments_lexer": "ipython3",
   "version": "3.10.9"
  }
 },
 "nbformat": 4,
 "nbformat_minor": 5
}
